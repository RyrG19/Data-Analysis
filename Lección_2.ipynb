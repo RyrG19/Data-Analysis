{
 "cells": [
  {
   "cell_type": "markdown",
   "id": "1d66606a-d3cc-4a5e-bf38-dd92cd20cb9c",
   "metadata": {
    "jp-MarkdownHeadingCollapsed": true,
    "tags": []
   },
   "source": [
    "# 1.Operaciones Básicas"
   ]
  },
  {
   "cell_type": "code",
   "execution_count": 8,
   "id": "b30b2da1-371a-48d0-87c1-e5bf917066e4",
   "metadata": {
    "tags": []
   },
   "outputs": [
    {
     "data": {
      "text/plain": [
       "11"
      ]
     },
     "execution_count": 8,
     "metadata": {},
     "output_type": "execute_result"
    }
   ],
   "source": [
    "5+6"
   ]
  },
  {
   "cell_type": "code",
   "execution_count": 4,
   "id": "6a30a4bb-4fb8-4492-8ad9-20a8e72fb17f",
   "metadata": {
    "tags": []
   },
   "outputs": [
    {
     "data": {
      "text/plain": [
       "17"
      ]
     },
     "execution_count": 4,
     "metadata": {},
     "output_type": "execute_result"
    }
   ],
   "source": [
    "5+12"
   ]
  },
  {
   "cell_type": "markdown",
   "id": "ff69a735-4907-47ac-93e1-395d34be78ff",
   "metadata": {
    "tags": []
   },
   "source": [
    "Hola a **todos.**"
   ]
  },
  {
   "cell_type": "code",
   "execution_count": 9,
   "id": "b4f78a06-6fda-461a-b538-2fcae6a47602",
   "metadata": {
    "tags": []
   },
   "outputs": [
    {
     "data": {
      "text/plain": [
       "1"
      ]
     },
     "execution_count": 9,
     "metadata": {},
     "output_type": "execute_result"
    }
   ],
   "source": [
    "8-7"
   ]
  },
  {
   "cell_type": "code",
   "execution_count": 10,
   "id": "1d33129f-9f21-425e-bef5-b38075b3eb3b",
   "metadata": {
    "tags": []
   },
   "outputs": [
    {
     "data": {
      "text/plain": [
       "0.875"
      ]
     },
     "execution_count": 10,
     "metadata": {},
     "output_type": "execute_result"
    }
   ],
   "source": [
    "7/8"
   ]
  },
  {
   "cell_type": "code",
   "execution_count": 14,
   "id": "0aa70e98-c875-43f6-aad1-c44684e916fd",
   "metadata": {
    "tags": []
   },
   "outputs": [
    {
     "data": {
      "text/plain": [
       "0"
      ]
     },
     "execution_count": 14,
     "metadata": {},
     "output_type": "execute_result"
    }
   ],
   "source": [
    "7//8"
   ]
  },
  {
   "cell_type": "code",
   "execution_count": 11,
   "id": "5c025469-4ab6-40ca-bc14-cfb5232990f8",
   "metadata": {
    "tags": []
   },
   "outputs": [
    {
     "data": {
      "text/plain": [
       "6"
      ]
     },
     "execution_count": 11,
     "metadata": {},
     "output_type": "execute_result"
    }
   ],
   "source": [
    "2*3"
   ]
  },
  {
   "cell_type": "code",
   "execution_count": 13,
   "id": "c9fe5576-af6c-46e0-8a67-abc72ae063c6",
   "metadata": {
    "tags": []
   },
   "outputs": [
    {
     "data": {
      "text/plain": [
       "27"
      ]
     },
     "execution_count": 13,
     "metadata": {},
     "output_type": "execute_result"
    }
   ],
   "source": [
    "3**3"
   ]
  },
  {
   "cell_type": "code",
   "execution_count": 15,
   "id": "b58615d2-f4d7-43b2-a3b4-a06ef59d4512",
   "metadata": {
    "tags": []
   },
   "outputs": [
    {
     "data": {
      "text/plain": [
       "1"
      ]
     },
     "execution_count": 15,
     "metadata": {},
     "output_type": "execute_result"
    }
   ],
   "source": [
    "25 % 2"
   ]
  },
  {
   "cell_type": "code",
   "execution_count": 17,
   "id": "d4485d93-31e8-4049-873c-44b911f6e56d",
   "metadata": {
    "tags": []
   },
   "outputs": [
    {
     "data": {
      "text/plain": [
       "3.0"
      ]
     },
     "execution_count": 17,
     "metadata": {},
     "output_type": "execute_result"
    }
   ],
   "source": [
    "import math #importar librerías\n",
    "\n",
    "math.sqrt(9)"
   ]
  },
  {
   "cell_type": "code",
   "execution_count": 18,
   "id": "6d0c14d2-ccf6-41ae-adb8-07b58bf25876",
   "metadata": {
    "tags": []
   },
   "outputs": [
    {
     "data": {
      "text/plain": [
       "3.0"
      ]
     },
     "execution_count": 18,
     "metadata": {},
     "output_type": "execute_result"
    }
   ],
   "source": [
    "math.pow(27,1/3)"
   ]
  },
  {
   "cell_type": "code",
   "execution_count": 19,
   "id": "82477e35-19db-426d-be56-f2aed55e59f5",
   "metadata": {
    "tags": []
   },
   "outputs": [
    {
     "data": {
      "text/plain": [
       "0.36787944117144233"
      ]
     },
     "execution_count": 19,
     "metadata": {},
     "output_type": "execute_result"
    }
   ],
   "source": [
    "math.e**-1"
   ]
  },
  {
   "cell_type": "markdown",
   "id": "908ba0b7-514a-4430-83ef-4545389613c3",
   "metadata": {
    "jp-MarkdownHeadingCollapsed": true,
    "tags": []
   },
   "source": [
    "# 2. Despliegue en Pantalla"
   ]
  },
  {
   "cell_type": "code",
   "execution_count": 22,
   "id": "27ea78c1-5ffc-4f7a-ac9d-4df5c77a8c2a",
   "metadata": {
    "tags": []
   },
   "outputs": [
    {
     "name": "stdout",
     "output_type": "stream",
     "text": [
      "Hola a todos\n"
     ]
    }
   ],
   "source": [
    "print(\"Hola a todos\")"
   ]
  },
  {
   "cell_type": "code",
   "execution_count": 24,
   "id": "f799a111-7c83-4371-8294-6272d3626908",
   "metadata": {
    "tags": []
   },
   "outputs": [
    {
     "name": "stdout",
     "output_type": "stream",
     "text": [
      "Hola a todos\n"
     ]
    }
   ],
   "source": [
    "a=\"Hola a todos\"\n",
    "print(a)"
   ]
  },
  {
   "cell_type": "code",
   "execution_count": 25,
   "id": "9e1a6a99-a197-4a15-92f5-08f20cbac1a1",
   "metadata": {
    "tags": []
   },
   "outputs": [
    {
     "name": "stdout",
     "output_type": "stream",
     "text": [
      "Hola \"a\" todos\n"
     ]
    }
   ],
   "source": [
    "a='Hola \"a\" todos'\n",
    "print(a)"
   ]
  },
  {
   "cell_type": "code",
   "execution_count": 27,
   "id": "01bf9d91-6645-425c-b759-adbd94075d13",
   "metadata": {
    "tags": []
   },
   "outputs": [
    {
     "name": "stdout",
     "output_type": "stream",
     "text": [
      "Hola 'a' todos\n"
     ]
    }
   ],
   "source": [
    "a=\"Hola 'a' todos\"\n",
    "print(a)"
   ]
  },
  {
   "cell_type": "code",
   "execution_count": 28,
   "id": "af699cf7-d6db-48f4-a118-0a9af5e5b161",
   "metadata": {
    "tags": []
   },
   "outputs": [
    {
     "data": {
      "text/plain": [
       "'Hola-Hola-Hola-Hola-Hola-Hola-Hola-Hola'"
      ]
     },
     "execution_count": 28,
     "metadata": {},
     "output_type": "execute_result"
    }
   ],
   "source": [
    "'Hola-Hola-Hola-Hola-Hola-Hola-Hola-Hola'"
   ]
  },
  {
   "cell_type": "code",
   "execution_count": 29,
   "id": "9cce6a21-3eb6-44f9-a6a4-70f75b81c7f1",
   "metadata": {
    "tags": []
   },
   "outputs": [
    {
     "name": "stdout",
     "output_type": "stream",
     "text": [
      "El restulado es: 5\n"
     ]
    }
   ],
   "source": [
    "print(\"El restulado es: \"+\"5\")"
   ]
  },
  {
   "cell_type": "code",
   "execution_count": 30,
   "id": "c8c7eed9-e27b-4f7a-8aef-fbe7ab9604d6",
   "metadata": {
    "tags": []
   },
   "outputs": [
    {
     "name": "stdout",
     "output_type": "stream",
     "text": [
      "El resultado es: 5\n"
     ]
    }
   ],
   "source": [
    "print(\"El resultado es: \"+str(5))"
   ]
  },
  {
   "cell_type": "code",
   "execution_count": 31,
   "id": "39ac465f-d292-4b3a-a110-5a4ab484b4cc",
   "metadata": {
    "tags": []
   },
   "outputs": [
    {
     "name": "stdout",
     "output_type": "stream",
     "text": [
      "El resultado es: 5 jeje\n"
     ]
    }
   ],
   "source": [
    "print(\"El resultado es:\",5,\"jeje\")"
   ]
  },
  {
   "cell_type": "code",
   "execution_count": 34,
   "id": "418f83c6-d83d-40f3-b93f-553b62279f9a",
   "metadata": {
    "tags": []
   },
   "outputs": [
    {
     "name": "stdout",
     "output_type": "stream",
     "text": [
      "La suma de 5 + 10 es: 15\n"
     ]
    }
   ],
   "source": [
    "a=5\n",
    "b=10\n",
    "c=a+b\n",
    "salida =\"La suma de \" + str(a) + \" + \" + str(b) + \" es: \" + str(c)\n",
    "print(salida)"
   ]
  },
  {
   "cell_type": "code",
   "execution_count": 36,
   "id": "ec070699-5f65-4cc8-9ad1-c9a439d931b0",
   "metadata": {
    "tags": []
   },
   "outputs": [
    {
     "name": "stdout",
     "output_type": "stream",
     "text": [
      "La suma de 5 + 10 es 15\n"
     ]
    }
   ],
   "source": [
    "salida = \"La suma de {} + {} es {}\".format(a,b,c)\n",
    "print(salida)"
   ]
  },
  {
   "cell_type": "code",
   "execution_count": 39,
   "id": "49237535-3f58-4c31-8cba-38afcaf14578",
   "metadata": {
    "tags": []
   },
   "outputs": [
    {
     "name": "stdout",
     "output_type": "stream",
     "text": [
      "La suma de 5 + 10 es 15\n"
     ]
    }
   ],
   "source": [
    "salida = f\"La suma de {a} + {b} es {a+b}\"\n",
    "print(salida)"
   ]
  },
  {
   "cell_type": "markdown",
   "id": "a29686dc-f6b3-4854-9213-5de525f26c14",
   "metadata": {
    "jp-MarkdownHeadingCollapsed": true,
    "tags": []
   },
   "source": [
    "# 3. Strings"
   ]
  },
  {
   "cell_type": "code",
   "execution_count": 43,
   "id": "dfe75417-fdd4-44a8-abc5-32586df1791f",
   "metadata": {
    "tags": []
   },
   "outputs": [
    {
     "data": {
      "text/plain": [
       "'Esto es un String'"
      ]
     },
     "execution_count": 43,
     "metadata": {},
     "output_type": "execute_result"
    }
   ],
   "source": [
    "miString = \"Esto es un String\"\n",
    "miString"
   ]
  },
  {
   "cell_type": "code",
   "execution_count": 44,
   "id": "d69c7a5e-ecdf-4b41-b7ae-595d13dca9b0",
   "metadata": {
    "tags": []
   },
   "outputs": [
    {
     "data": {
      "text/plain": [
       "'E'"
      ]
     },
     "execution_count": 44,
     "metadata": {},
     "output_type": "execute_result"
    }
   ],
   "source": [
    "miString[0]"
   ]
  },
  {
   "cell_type": "code",
   "execution_count": 47,
   "id": "841f2509-3483-47e3-bef6-7fea273773b9",
   "metadata": {
    "tags": []
   },
   "outputs": [
    {
     "data": {
      "text/plain": [
       "'Esto es un'"
      ]
     },
     "execution_count": 47,
     "metadata": {},
     "output_type": "execute_result"
    }
   ],
   "source": [
    "miString[0:10]"
   ]
  },
  {
   "cell_type": "code",
   "execution_count": 48,
   "id": "81e3a37e-07dd-4e70-a39a-ea8ffba7f89f",
   "metadata": {
    "tags": []
   },
   "outputs": [
    {
     "data": {
      "text/plain": [
       "'g'"
      ]
     },
     "execution_count": 48,
     "metadata": {},
     "output_type": "execute_result"
    }
   ],
   "source": [
    "miString[-1]"
   ]
  },
  {
   "cell_type": "code",
   "execution_count": 49,
   "id": "75f6dc66-23e8-4cbc-af3a-ed8fd1c5ee3b",
   "metadata": {
    "tags": []
   },
   "outputs": [
    {
     "data": {
      "text/plain": [
       "'Esto es un'"
      ]
     },
     "execution_count": 49,
     "metadata": {},
     "output_type": "execute_result"
    }
   ],
   "source": [
    "miString[:10]"
   ]
  },
  {
   "cell_type": "code",
   "execution_count": 50,
   "id": "917ee773-b063-47cd-a72e-97253a08ad96",
   "metadata": {
    "tags": []
   },
   "outputs": [
    {
     "data": {
      "text/plain": [
       "int"
      ]
     },
     "execution_count": 50,
     "metadata": {},
     "output_type": "execute_result"
    }
   ],
   "source": [
    "type(0)"
   ]
  },
  {
   "cell_type": "code",
   "execution_count": 52,
   "id": "864b057e-6e95-441a-9314-c6378a9ab010",
   "metadata": {
    "tags": []
   },
   "outputs": [
    {
     "data": {
      "text/plain": [
       "5656"
      ]
     },
     "execution_count": 52,
     "metadata": {},
     "output_type": "execute_result"
    }
   ],
   "source": [
    "int(\"5656\")"
   ]
  },
  {
   "cell_type": "code",
   "execution_count": 54,
   "id": "3d87e243-9b9d-481e-a8b8-d658c55f0059",
   "metadata": {
    "tags": []
   },
   "outputs": [
    {
     "data": {
      "text/plain": [
       "float"
      ]
     },
     "execution_count": 54,
     "metadata": {},
     "output_type": "execute_result"
    }
   ],
   "source": [
    "type(float(\"3.141569264\"))"
   ]
  },
  {
   "cell_type": "markdown",
   "id": "370ffa09-3f4e-4b09-b2ae-d516bce1fd6b",
   "metadata": {
    "jp-MarkdownHeadingCollapsed": true,
    "tags": []
   },
   "source": [
    "# 4. Booleanos"
   ]
  },
  {
   "cell_type": "code",
   "execution_count": 56,
   "id": "765f5471-0254-4e8b-8198-29ad5749415a",
   "metadata": {
    "tags": []
   },
   "outputs": [],
   "source": [
    "a= True\n",
    "b= False"
   ]
  },
  {
   "cell_type": "code",
   "execution_count": 57,
   "id": "d01f2af9-45ab-4a9b-83f5-dde054d7018d",
   "metadata": {
    "tags": []
   },
   "outputs": [
    {
     "data": {
      "text/plain": [
       "bool"
      ]
     },
     "execution_count": 57,
     "metadata": {},
     "output_type": "execute_result"
    }
   ],
   "source": [
    "type(b)"
   ]
  },
  {
   "cell_type": "code",
   "execution_count": 58,
   "id": "5e4c4dd5-9b65-4687-b6bc-f4311e84f332",
   "metadata": {
    "tags": []
   },
   "outputs": [
    {
     "data": {
      "text/plain": [
       "False"
      ]
     },
     "execution_count": 58,
     "metadata": {},
     "output_type": "execute_result"
    }
   ],
   "source": [
    "a & b #and bitwise"
   ]
  },
  {
   "cell_type": "code",
   "execution_count": 59,
   "id": "a2f460be-0347-4c2c-98b4-ed67fbea472c",
   "metadata": {
    "tags": []
   },
   "outputs": [
    {
     "data": {
      "text/plain": [
       "True"
      ]
     },
     "execution_count": 59,
     "metadata": {},
     "output_type": "execute_result"
    }
   ],
   "source": [
    "b | a #or bitwise"
   ]
  },
  {
   "cell_type": "code",
   "execution_count": 60,
   "id": "e19f5c84-a4a4-40d2-8a97-be8e0a276088",
   "metadata": {
    "tags": []
   },
   "outputs": [
    {
     "data": {
      "text/plain": [
       "False"
      ]
     },
     "execution_count": 60,
     "metadata": {},
     "output_type": "execute_result"
    }
   ],
   "source": [
    "not(a)"
   ]
  },
  {
   "cell_type": "code",
   "execution_count": 61,
   "id": "bc1ee077-a154-43e0-8cf0-4f6a15fad653",
   "metadata": {
    "tags": []
   },
   "outputs": [
    {
     "data": {
      "text/plain": [
       "False"
      ]
     },
     "execution_count": 61,
     "metadata": {},
     "output_type": "execute_result"
    }
   ],
   "source": [
    "a and b"
   ]
  },
  {
   "cell_type": "code",
   "execution_count": 62,
   "id": "e065fe87-9a3b-46d5-8bd8-c6e37c5de134",
   "metadata": {
    "tags": []
   },
   "outputs": [
    {
     "data": {
      "text/plain": [
       "True"
      ]
     },
     "execution_count": 62,
     "metadata": {},
     "output_type": "execute_result"
    }
   ],
   "source": [
    "a or b"
   ]
  },
  {
   "cell_type": "markdown",
   "id": "bf8870af-5334-4dc7-83a2-e0e413b8eea8",
   "metadata": {
    "jp-MarkdownHeadingCollapsed": true,
    "tags": []
   },
   "source": [
    "# 5. Condicionales"
   ]
  },
  {
   "cell_type": "code",
   "execution_count": 64,
   "id": "cd675c37-3be6-4780-ad5d-8fd167806ba4",
   "metadata": {
    "tags": []
   },
   "outputs": [
    {
     "data": {
      "text/plain": [
       "True"
      ]
     },
     "execution_count": 64,
     "metadata": {},
     "output_type": "execute_result"
    }
   ],
   "source": [
    "42 == 42"
   ]
  },
  {
   "cell_type": "code",
   "execution_count": 65,
   "id": "d42255c0-2075-47a0-8245-d65e1cae8379",
   "metadata": {
    "tags": []
   },
   "outputs": [
    {
     "data": {
      "text/plain": [
       "False"
      ]
     },
     "execution_count": 65,
     "metadata": {},
     "output_type": "execute_result"
    }
   ],
   "source": [
    "40 == 42"
   ]
  },
  {
   "cell_type": "code",
   "execution_count": 66,
   "id": "aa5040a4-a7d2-4712-afa4-84eae1837002",
   "metadata": {
    "tags": []
   },
   "outputs": [
    {
     "data": {
      "text/plain": [
       "True"
      ]
     },
     "execution_count": 66,
     "metadata": {},
     "output_type": "execute_result"
    }
   ],
   "source": [
    "'Hola'=='Hola'"
   ]
  },
  {
   "cell_type": "code",
   "execution_count": 67,
   "id": "94d6f183-148f-4924-826f-f8e00a798cdf",
   "metadata": {
    "tags": []
   },
   "outputs": [
    {
     "data": {
      "text/plain": [
       "False"
      ]
     },
     "execution_count": 67,
     "metadata": {},
     "output_type": "execute_result"
    }
   ],
   "source": [
    "'Hola'!='Hola'"
   ]
  },
  {
   "cell_type": "code",
   "execution_count": 68,
   "id": "c50547c9-a686-4e47-9224-1fa0ffa16e78",
   "metadata": {
    "tags": []
   },
   "outputs": [],
   "source": [
    "numero =10"
   ]
  },
  {
   "cell_type": "code",
   "execution_count": 71,
   "id": "57603808-eed8-4355-ad78-c776131385b3",
   "metadata": {
    "tags": []
   },
   "outputs": [
    {
     "name": "stdout",
     "output_type": "stream",
     "text": [
      "Positivo\n"
     ]
    }
   ],
   "source": [
    "if (numero >=0):\n",
    "    print(\"Positivo\")\n",
    "else:\n",
    "    print(\"Negativo\")"
   ]
  },
  {
   "cell_type": "code",
   "execution_count": 72,
   "id": "a1a31494-05f8-4e0e-9433-1aa6d633d8f2",
   "metadata": {
    "tags": []
   },
   "outputs": [
    {
     "name": "stdin",
     "output_type": "stream",
     "text": [
      "Ingrese un numero:  456\n"
     ]
    }
   ],
   "source": [
    "dia = input(\"Ingrese un numero: \")\n",
    "print(dia)"
   ]
  },
  {
   "cell_type": "code",
   "execution_count": 85,
   "id": "14733ac9-b2b9-4472-818b-d203df58ecba",
   "metadata": {
    "tags": []
   },
   "outputs": [
    {
     "name": "stdin",
     "output_type": "stream",
     "text": [
      "Ingrese un numero: 10\n"
     ]
    },
    {
     "name": "stdout",
     "output_type": "stream",
     "text": [
      "Error - Valor no valido\n"
     ]
    }
   ],
   "source": [
    "dia = int(input(\"Ingrese un numero:\"))\n",
    "\n",
    "if((dia >= 1) and (dia <=7)):\n",
    "    if(dia ==1):\n",
    "        dia_str = \"Lunes\"\n",
    "    elif(dia == 2):\n",
    "        dia_str = \"Martes\"\n",
    "    elif(dia == 3):\n",
    "        dia_str = \"Miercoles\"\n",
    "    elif(dia == 4):\n",
    "        dia_str = \"Jueves\"\n",
    "    elif(dia == 5):\n",
    "        dia_str = \"Viernes\"\n",
    "    elif(dia == 6):\n",
    "        dia_str = \"Sabado\"\n",
    "    elif(dia == 7):\n",
    "        dia_str = \"Domingo\"\n",
    "else:\n",
    "    dia_str = \"Error - Valor no valido\"\n",
    "print(dia_str)"
   ]
  },
  {
   "cell_type": "markdown",
   "id": "d0c9f87d-115d-46b9-b74d-2cfd503a7203",
   "metadata": {
    "jp-MarkdownHeadingCollapsed": true,
    "tags": []
   },
   "source": [
    "# 6. Ciclo While"
   ]
  },
  {
   "cell_type": "code",
   "execution_count": 86,
   "id": "9d9ca237-79b8-4739-83ec-14082a6b548f",
   "metadata": {
    "tags": []
   },
   "outputs": [
    {
     "name": "stdin",
     "output_type": "stream",
     "text": [
      "Ingrese un numero: 1\n",
      "Ingrese un numero: 2\n",
      "Ingrese un numero: 3\n",
      "Ingrese un numero: 4\n",
      "Ingrese un numero: 5\n",
      "Ingrese un numero: 6\n",
      "Ingrese un numero: 7\n",
      "Ingrese un numero: 8\n",
      "Ingrese un numero: 9\n",
      "Ingrese un numero: 10\n"
     ]
    },
    {
     "name": "stdout",
     "output_type": "stream",
     "text": [
      "Saliendo...\n"
     ]
    }
   ],
   "source": [
    "valor_secreto = 10\n",
    "valor = 0\n",
    "\n",
    "while(valor != valor_secreto):\n",
    "    valor = int(input(\"Ingrese un numero:\"))\n",
    "\n",
    "print(\"Saliendo...\")"
   ]
  },
  {
   "cell_type": "code",
   "execution_count": 87,
   "id": "1dc40ea6-b6a8-439b-b325-fe93fe11219e",
   "metadata": {
    "tags": []
   },
   "outputs": [],
   "source": [
    "import random"
   ]
  },
  {
   "cell_type": "code",
   "execution_count": 89,
   "id": "dabb44ef-725b-40b6-9a15-24aeb742c5e3",
   "metadata": {
    "tags": []
   },
   "outputs": [
    {
     "name": "stdout",
     "output_type": "stream",
     "text": [
      "El valor es: 9\n"
     ]
    },
    {
     "name": "stdin",
     "output_type": "stream",
     "text": [
      "Ingrese un numero: 1\n",
      "Ingrese un numero: 2\n",
      "Ingrese un numero: 3\n",
      "Ingrese un numero: 4\n",
      "Ingrese un numero: 5\n",
      "Ingrese un numero: 6\n",
      "Ingrese un numero: 7\n",
      "Ingrese un numero: 8\n",
      "Ingrese un numero: 9\n"
     ]
    },
    {
     "name": "stdout",
     "output_type": "stream",
     "text": [
      "Saliendo...\n"
     ]
    }
   ],
   "source": [
    "valor_secreto = random.randint(1,10)\n",
    "print(f\"El valor es: {valor_secreto}\")\n",
    "valor = 0\n",
    "\n",
    "while(valor != valor_secreto):\n",
    "    valor = int(input(\"Ingrese un numero:\"))\n",
    "\n",
    "print(\"Saliendo...\")"
   ]
  },
  {
   "cell_type": "code",
   "execution_count": 92,
   "id": "edc41392-a4b8-4f97-9c64-daeda8e22819",
   "metadata": {
    "tags": []
   },
   "outputs": [
    {
     "name": "stdin",
     "output_type": "stream",
     "text": [
      "Ingrese un numero: 5\n"
     ]
    },
    {
     "name": "stdout",
     "output_type": "stream",
     "text": [
      "Valor acumulado: 5\n"
     ]
    },
    {
     "name": "stdin",
     "output_type": "stream",
     "text": [
      "Ingrese un numero: 6\n"
     ]
    },
    {
     "name": "stdout",
     "output_type": "stream",
     "text": [
      "Valor acumulado: 11\n"
     ]
    },
    {
     "name": "stdin",
     "output_type": "stream",
     "text": [
      "Ingrese un numero: 1\n"
     ]
    },
    {
     "name": "stdout",
     "output_type": "stream",
     "text": [
      "Valor acumulado: 12\n"
     ]
    },
    {
     "name": "stdin",
     "output_type": "stream",
     "text": [
      "Ingrese un numero: 5\n"
     ]
    },
    {
     "name": "stdout",
     "output_type": "stream",
     "text": [
      "Valor acumulado: 17\n"
     ]
    },
    {
     "name": "stdin",
     "output_type": "stream",
     "text": [
      "Ingrese un numero: 7\n"
     ]
    },
    {
     "name": "stdout",
     "output_type": "stream",
     "text": [
      "Valor acumulado: 24\n"
     ]
    },
    {
     "name": "stdin",
     "output_type": "stream",
     "text": [
      "Ingrese un numero: 15\n"
     ]
    },
    {
     "name": "stdout",
     "output_type": "stream",
     "text": [
      "Valor acumulado: 39\n"
     ]
    },
    {
     "name": "stdin",
     "output_type": "stream",
     "text": [
      "Ingrese un numero: 45\n"
     ]
    },
    {
     "name": "stdout",
     "output_type": "stream",
     "text": [
      "Valor acumulado: 84\n"
     ]
    },
    {
     "name": "stdin",
     "output_type": "stream",
     "text": [
      "Ingrese un numero: 15\n"
     ]
    },
    {
     "name": "stdout",
     "output_type": "stream",
     "text": [
      "Valor acumulado: 99\n"
     ]
    },
    {
     "name": "stdin",
     "output_type": "stream",
     "text": [
      "Ingrese un numero: 1\n"
     ]
    },
    {
     "name": "stdout",
     "output_type": "stream",
     "text": [
      "Valor acumulado: 100\n",
      "Saliendo...\n"
     ]
    }
   ],
   "source": [
    "acc = 0\n",
    "nuevo = 0\n",
    "\n",
    "while True:\n",
    "    nuevo = int(input(\"Ingrese un numero:\"))\n",
    "    acc = acc + nuevo\n",
    "    print(f\"Valor acumulado: {acc}\")\n",
    "    if(acc >=100):\n",
    "        print(\"Saliendo...\")\n",
    "        break"
   ]
  },
  {
   "cell_type": "code",
   "execution_count": 93,
   "id": "24f80ff3-f710-44ad-aa20-aabb00981a20",
   "metadata": {
    "tags": []
   },
   "outputs": [
    {
     "name": "stdin",
     "output_type": "stream",
     "text": [
      "Ingrese un numero: 50\n"
     ]
    },
    {
     "name": "stdout",
     "output_type": "stream",
     "text": [
      "Valor acumulado: 50\n"
     ]
    },
    {
     "name": "stdin",
     "output_type": "stream",
     "text": [
      "Ingrese un numero: 1\n"
     ]
    },
    {
     "name": "stdout",
     "output_type": "stream",
     "text": [
      "Valor acumulado: 51\n"
     ]
    },
    {
     "name": "stdin",
     "output_type": "stream",
     "text": [
      "Ingrese un numero: 45\n"
     ]
    },
    {
     "name": "stdout",
     "output_type": "stream",
     "text": [
      "Valor acumulado: 96\n"
     ]
    },
    {
     "name": "stdin",
     "output_type": "stream",
     "text": [
      "Ingrese un numero: 3\n"
     ]
    },
    {
     "name": "stdout",
     "output_type": "stream",
     "text": [
      "Valor acumulado: 99\n"
     ]
    },
    {
     "name": "stdin",
     "output_type": "stream",
     "text": [
      "Ingrese un numero: 3\n"
     ]
    },
    {
     "name": "stdout",
     "output_type": "stream",
     "text": [
      "Valor acumulado: 102\n",
      "Saliendo...\n"
     ]
    }
   ],
   "source": [
    "acc = 0\n",
    "nuevo = 0\n",
    "bandera = True\n",
    "\n",
    "while bandera:\n",
    "    nuevo = int(input(\"Ingrese un numero:\"))\n",
    "    acc = acc + nuevo\n",
    "    print(f\"Valor acumulado: {acc}\")\n",
    "    if(acc >=100):\n",
    "        print(\"Saliendo...\")\n",
    "        bandera = False"
   ]
  },
  {
   "cell_type": "markdown",
   "id": "5b05245e-b068-4ad1-930f-77096b2d037c",
   "metadata": {},
   "source": [
    "# 7. Excepción"
   ]
  },
  {
   "cell_type": "code",
   "execution_count": 94,
   "id": "c1282309-e6c9-434c-ba1b-027d4e046e8d",
   "metadata": {
    "tags": []
   },
   "outputs": [
    {
     "name": "stdout",
     "output_type": "stream",
     "text": [
      "Está dividiendo por cero\n"
     ]
    }
   ],
   "source": [
    "try:\n",
    "    7/0\n",
    "except:\n",
    "    print(\"Está dividiendo por cero\")"
   ]
  },
  {
   "cell_type": "code",
   "execution_count": 100,
   "id": "ed9c6839-2c1e-437b-a1a9-2dab58aebb2e",
   "metadata": {
    "tags": []
   },
   "outputs": [
    {
     "name": "stdout",
     "output_type": "stream",
     "text": [
      "Eror - division by zero\n"
     ]
    }
   ],
   "source": [
    "try:\n",
    "    7/0\n",
    "except Exception as ex:\n",
    "    print(f\"Eror - \" + str(ex))"
   ]
  },
  {
   "cell_type": "code",
   "execution_count": 106,
   "id": "f0077080-12c7-4cf0-a967-66e34624e20d",
   "metadata": {
    "tags": []
   },
   "outputs": [
    {
     "name": "stdin",
     "output_type": "stream",
     "text": [
      "Ingrese un numero:  56\n",
      "Ingrese otro numero:  0\n"
     ]
    },
    {
     "name": "stdout",
     "output_type": "stream",
     "text": [
      "Error - División por cero\n",
      "Operación Complea\n"
     ]
    }
   ],
   "source": [
    "try:\n",
    "    A = float(input(\"Ingrese un numero: \"))\n",
    "    B = float(input(\"Ingrese otro numero: \"))\n",
    "    C = A/B\n",
    "    print(\"El resultado es: \",C)\n",
    "except ValueError:\n",
    "    print(\"Error - Ingresó una letra\")\n",
    "except ZeroDivisionError:\n",
    "    print(\"Error - División por cero\")\n",
    "finally:\n",
    "    print(\"Operación Completa\")"
   ]
  },
  {
   "cell_type": "code",
   "execution_count": 109,
   "id": "906668ac-2be5-44a7-91a4-c9ce06e30785",
   "metadata": {
    "tags": []
   },
   "outputs": [
    {
     "name": "stdin",
     "output_type": "stream",
     "text": [
      "Ingrese un numero: a\n"
     ]
    },
    {
     "name": "stdout",
     "output_type": "stream",
     "text": [
      "Error - Ingresó letras\n"
     ]
    }
   ],
   "source": [
    "try:\n",
    "    dia = int(input(\"Ingrese un numero:\"))\n",
    "\n",
    "    if((dia >= 1) and (dia <=7)):\n",
    "        if(dia ==1):\n",
    "            dia_str = \"Lunes\"\n",
    "        elif(dia == 2):\n",
    "            dia_str = \"Martes\"\n",
    "        elif(dia == 3):\n",
    "            dia_str = \"Miercoles\"\n",
    "        elif(dia == 4):\n",
    "            dia_str = \"Jueves\"\n",
    "        elif(dia == 5):\n",
    "            dia_str = \"Viernes\"\n",
    "        elif(dia == 6):\n",
    "            dia_str = \"Sabado\"\n",
    "        elif(dia == 7):\n",
    "            dia_str = \"Domingo\"\n",
    "    else:\n",
    "        dia_str = \"Error - Valor no valido\"\n",
    "    print(dia_str)\n",
    "except ValueError:\n",
    "    print(\"Error - Ingresó letras\")"
   ]
  },
  {
   "cell_type": "code",
   "execution_count": 112,
   "id": "26faea32-56a7-4fa2-9141-e6c887f74038",
   "metadata": {
    "tags": []
   },
   "outputs": [
    {
     "name": "stdout",
     "output_type": "stream",
     "text": [
      " Volume in drive C is Acer\n",
      " Volume Serial Number is 6A91-99F6\n",
      "\n",
      " Directory of C:\\Users\\NITRO 50\\Desktop\\Análisis\\Data\n",
      "\n",
      "03/02/2024  11:57 PM    <DIR>          .\n",
      "03/02/2024  11:57 PM    <DIR>          ..\n",
      "03/01/2024  05:14 PM    <DIR>          .ipynb_checkpoints\n",
      "03/01/2024  05:36 PM            13,089 Lec4_V.ipynb\n",
      "03/02/2024  11:57 PM            28,846 Lección_2.ipynb\n",
      "               2 File(s)         41,935 bytes\n",
      "               3 Dir(s)  160,415,334,400 bytes free\n"
     ]
    }
   ],
   "source": [
    "ls"
   ]
  },
  {
   "cell_type": "code",
   "execution_count": 6,
   "id": "d525a3e8-6c18-4695-aa65-0da7e4489369",
   "metadata": {
    "tags": []
   },
   "outputs": [
    {
     "ename": "SyntaxError",
     "evalue": "invalid syntax (2938414651.py, line 1)",
     "output_type": "error",
     "traceback": [
      "\u001b[1;36m  Cell \u001b[1;32mIn[6], line 1\u001b[1;36m\u001b[0m\n\u001b[1;33m    git commit -m \"Add Jupyter Notebook\"\u001b[0m\n\u001b[1;37m        ^\u001b[0m\n\u001b[1;31mSyntaxError\u001b[0m\u001b[1;31m:\u001b[0m invalid syntax\n"
     ]
    }
   ],
   "source": [
    "git commit -m \"Add Jupyter Notebook\""
   ]
  },
  {
   "cell_type": "code",
   "execution_count": 7,
   "id": "ac2aa79a-1e91-4804-949a-c841f3b02ed9",
   "metadata": {
    "tags": []
   },
   "outputs": [
    {
     "ename": "SyntaxError",
     "evalue": "invalid syntax (3052659966.py, line 1)",
     "output_type": "error",
     "traceback": [
      "\u001b[1;36m  Cell \u001b[1;32mIn[7], line 1\u001b[1;36m\u001b[0m\n\u001b[1;33m    git add . Lección_2\u001b[0m\n\u001b[1;37m        ^\u001b[0m\n\u001b[1;31mSyntaxError\u001b[0m\u001b[1;31m:\u001b[0m invalid syntax\n"
     ]
    }
   ],
   "source": [
    "git add . Lección_2"
   ]
  },
  {
   "cell_type": "code",
   "execution_count": 8,
   "id": "98a04597-fc78-46a4-984c-6452372a3966",
   "metadata": {},
   "outputs": [
    {
     "ename": "SyntaxError",
     "evalue": "invalid syntax (2546751324.py, line 1)",
     "output_type": "error",
     "traceback": [
      "\u001b[1;36m  Cell \u001b[1;32mIn[8], line 1\u001b[1;36m\u001b[0m\n\u001b[1;33m    git commit -m \"Lección_2\"\u001b[0m\n\u001b[1;37m        ^\u001b[0m\n\u001b[1;31mSyntaxError\u001b[0m\u001b[1;31m:\u001b[0m invalid syntax\n"
     ]
    }
   ],
   "source": [
    "git commit -m \"Lección_2\""
   ]
  },
  {
   "cell_type": "code",
   "execution_count": null,
   "id": "9f6a298b-1a15-4a8d-a01a-291ae0b05129",
   "metadata": {},
   "outputs": [],
   "source": []
  }
 ],
 "metadata": {
  "kernelspec": {
   "display_name": "Python 3 (ipykernel)",
   "language": "python",
   "name": "python3"
  },
  "language_info": {
   "codemirror_mode": {
    "name": "ipython",
    "version": 3
   },
   "file_extension": ".py",
   "mimetype": "text/x-python",
   "name": "python",
   "nbconvert_exporter": "python",
   "pygments_lexer": "ipython3",
   "version": "3.11.5"
  }
 },
 "nbformat": 4,
 "nbformat_minor": 5
}
