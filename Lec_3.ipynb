{
 "cells": [
  {
   "cell_type": "markdown",
   "id": "40ab338e-3215-496b-a5e9-34bc3b94fd07",
   "metadata": {
    "jp-MarkdownHeadingCollapsed": true,
    "tags": []
   },
   "source": [
    "# 1. Funciones"
   ]
  },
  {
   "cell_type": "code",
   "execution_count": 1,
   "id": "9321b190-25f1-47a7-84ea-8220880c4bf3",
   "metadata": {
    "tags": []
   },
   "outputs": [],
   "source": [
    "def saludo():\n",
    "    print(\"Hola a todos\")"
   ]
  },
  {
   "cell_type": "code",
   "execution_count": 2,
   "id": "77b3bd8f-c808-4789-a82c-2f5eb990c1a3",
   "metadata": {
    "tags": []
   },
   "outputs": [
    {
     "name": "stdout",
     "output_type": "stream",
     "text": [
      "Hola a todos\n"
     ]
    }
   ],
   "source": [
    "saludo()"
   ]
  },
  {
   "cell_type": "code",
   "execution_count": 3,
   "id": "5993b3d8-8489-47ee-9956-602dfe1d9b25",
   "metadata": {
    "tags": []
   },
   "outputs": [],
   "source": [
    "def saludar_nombre(nombre, edad, profesion):\n",
    "    print(\"Hola\",nombre,\",tienes\",edad,\"y eres \",profesion)"
   ]
  },
  {
   "cell_type": "code",
   "execution_count": 5,
   "id": "2cf83ea5-febb-4c8e-bb15-3cc5238a8a2f",
   "metadata": {
    "tags": []
   },
   "outputs": [
    {
     "name": "stdout",
     "output_type": "stream",
     "text": [
      "Hola Ronald] ,tienes 32 y eres  Ingeniero\n"
     ]
    }
   ],
   "source": [
    "saludar_nombre(\"Ronald]\",32,\"Ingeniero\")"
   ]
  },
  {
   "cell_type": "code",
   "execution_count": 6,
   "id": "750cc132-6df8-40db-b9e6-500e6357b5d7",
   "metadata": {
    "tags": []
   },
   "outputs": [],
   "source": [
    "def saludar_nombre_v2(nombre, edad, profesion, pais='Guatemala'):\n",
    "    print(\"Hola\", nombre, \", tienes \", edad, \"y eres\", profesion, \"vives en \", pais)"
   ]
  },
  {
   "cell_type": "code",
   "execution_count": 8,
   "id": "0eb12f2d-1b64-4c50-ba2e-3122ecbe62fa",
   "metadata": {
    "tags": []
   },
   "outputs": [
    {
     "name": "stdout",
     "output_type": "stream",
     "text": [
      "Hola Ronald] , tienes  32 y eres Ingeniero vives en  Guatemala\n"
     ]
    }
   ],
   "source": [
    "saludar_nombre_v2(\"Ronald]\",32,\"Ingeniero\")"
   ]
  },
  {
   "cell_type": "code",
   "execution_count": 9,
   "id": "8841d36b-4c75-40ca-8667-945640c6e39a",
   "metadata": {
    "tags": []
   },
   "outputs": [],
   "source": [
    "def suma(a,b):\n",
    "    print(\"Suma simple\")\n",
    "    return a+b"
   ]
  },
  {
   "cell_type": "code",
   "execution_count": 11,
   "id": "4b5b4fd3-b63c-4cfa-88e4-1bc3cd1910ef",
   "metadata": {
    "tags": []
   },
   "outputs": [
    {
     "name": "stdout",
     "output_type": "stream",
     "text": [
      "Suma simple\n"
     ]
    },
    {
     "data": {
      "text/plain": [
       "157"
      ]
     },
     "execution_count": 11,
     "metadata": {},
     "output_type": "execute_result"
    }
   ],
   "source": [
    "res = suma(58,99)\n",
    "res"
   ]
  },
  {
   "cell_type": "code",
   "execution_count": 14,
   "id": "a8db1d26-2afa-44e0-98a0-02698bbff8ef",
   "metadata": {
    "tags": []
   },
   "outputs": [],
   "source": [
    "def operar(a,b):\n",
    "    suma =a+b\n",
    "    resta = a-b\n",
    "    division =a/b\n",
    "    multiplic =a*b\n",
    "    \n",
    "    return suma, resta, division, multiplic"
   ]
  },
  {
   "cell_type": "code",
   "execution_count": 15,
   "id": "ef060378-467e-4c80-86c1-04bb576bcd07",
   "metadata": {
    "tags": []
   },
   "outputs": [
    {
     "data": {
      "text/plain": [
       "(13, -3, 0.625, 40)"
      ]
     },
     "execution_count": 15,
     "metadata": {},
     "output_type": "execute_result"
    }
   ],
   "source": [
    "operar(5,8)"
   ]
  },
  {
   "cell_type": "code",
   "execution_count": 18,
   "id": "92f89fae-0122-4d2a-ac13-89822855343c",
   "metadata": {
    "tags": []
   },
   "outputs": [
    {
     "name": "stdout",
     "output_type": "stream",
     "text": [
      "Suma: 15\n",
      "Resta: 1\n",
      "División: 1.1428571428571428\n",
      "Multiplicación: 56\n"
     ]
    }
   ],
   "source": [
    "a, b, c, d = operar(8,7)\n",
    "print(\"Suma:\", a)\n",
    "print(\"Resta:\", b)\n",
    "print(\"División:\", c)\n",
    "print(\"Multiplicación:\", d)"
   ]
  },
  {
   "cell_type": "markdown",
   "id": "628ce454-ac80-4b5e-bcb1-914c35c1e53e",
   "metadata": {
    "jp-MarkdownHeadingCollapsed": true,
    "tags": []
   },
   "source": [
    "# 2. Listas"
   ]
  },
  {
   "cell_type": "markdown",
   "id": "df59f070-49d8-4e09-88eb-9e14959bec88",
   "metadata": {},
   "source": [
    "1. Indexable,\n",
    "2. Dinámica,\n",
    "3. No contiene el mismo tipo de datos"
   ]
  },
  {
   "cell_type": "code",
   "execution_count": 33,
   "id": "dd2b8e24-19da-4503-8c2f-66173f3a93db",
   "metadata": {
    "tags": []
   },
   "outputs": [],
   "source": [
    "lista = [10, 20, 30, 40, 50, 60]"
   ]
  },
  {
   "cell_type": "code",
   "execution_count": 20,
   "id": "c82bc02e-d0fe-42c3-be7b-23cd2038e858",
   "metadata": {
    "tags": []
   },
   "outputs": [
    {
     "data": {
      "text/plain": [
       "30"
      ]
     },
     "execution_count": 20,
     "metadata": {},
     "output_type": "execute_result"
    }
   ],
   "source": [
    "lista[2]"
   ]
  },
  {
   "cell_type": "code",
   "execution_count": 21,
   "id": "c12f8207-fa29-49a4-b594-06768c44720e",
   "metadata": {
    "tags": []
   },
   "outputs": [
    {
     "data": {
      "text/plain": [
       "6"
      ]
     },
     "execution_count": 21,
     "metadata": {},
     "output_type": "execute_result"
    }
   ],
   "source": [
    "len(lista)"
   ]
  },
  {
   "cell_type": "code",
   "execution_count": 35,
   "id": "f84ce2a2-fb6b-4b1f-a335-13315d52d5e8",
   "metadata": {
    "tags": []
   },
   "outputs": [],
   "source": [
    "lista.append(\"Galileo\")"
   ]
  },
  {
   "cell_type": "code",
   "execution_count": 36,
   "id": "f4f678a8-4ad2-4a28-b165-474b1687965d",
   "metadata": {
    "tags": []
   },
   "outputs": [
    {
     "data": {
      "text/plain": [
       "[10, 20, 30, 40, 50, 60, 'Galileo']"
      ]
     },
     "execution_count": 36,
     "metadata": {},
     "output_type": "execute_result"
    }
   ],
   "source": [
    "lista"
   ]
  },
  {
   "cell_type": "code",
   "execution_count": 37,
   "id": "922e73f9-b760-4a1f-817a-25070342307b",
   "metadata": {
    "tags": []
   },
   "outputs": [
    {
     "data": {
      "text/plain": [
       "[10, 20, 'IIO', 30, 40, 50, 60, 'Galileo']"
      ]
     },
     "execution_count": 37,
     "metadata": {},
     "output_type": "execute_result"
    }
   ],
   "source": [
    "lista.insert(2,\"IIO\")\n",
    "lista"
   ]
  },
  {
   "cell_type": "code",
   "execution_count": 38,
   "id": "0862d820-e352-401f-ade0-5cc65e255bfb",
   "metadata": {
    "tags": []
   },
   "outputs": [
    {
     "data": {
      "text/plain": [
       "[10, 20, 'IIO', 40, 50, 60, 'Galileo']"
      ]
     },
     "execution_count": 38,
     "metadata": {},
     "output_type": "execute_result"
    }
   ],
   "source": [
    "valor_eliminado =lista.pop(3)\n",
    "valor_eliminado\n",
    "lista"
   ]
  },
  {
   "cell_type": "code",
   "execution_count": 39,
   "id": "1b3ca895-d288-4eda-bc21-e0de29292c7e",
   "metadata": {
    "tags": []
   },
   "outputs": [
    {
     "data": {
      "text/plain": [
       "[10, 20, 'IIO', 40, 50, 60]"
      ]
     },
     "execution_count": 39,
     "metadata": {},
     "output_type": "execute_result"
    }
   ],
   "source": [
    "lista.remove(\"Galileo\")\n",
    "lista"
   ]
  },
  {
   "cell_type": "code",
   "execution_count": 47,
   "id": "b33c8b4d-039f-4c59-a41b-ffe28ffee34e",
   "metadata": {
    "tags": []
   },
   "outputs": [
    {
     "data": {
      "text/plain": [
       "[10, 20, 30, 40, 50, 60, 70, 60, 80, 60]"
      ]
     },
     "execution_count": 47,
     "metadata": {},
     "output_type": "execute_result"
    }
   ],
   "source": [
    "lista = [10,20,30,40,50,60,70,60,80,60]\n",
    "lista"
   ]
  },
  {
   "cell_type": "code",
   "execution_count": 42,
   "id": "6d40dc4c-9eba-4388-85ca-15b086c18381",
   "metadata": {
    "tags": []
   },
   "outputs": [
    {
     "data": {
      "text/plain": [
       "3"
      ]
     },
     "execution_count": 42,
     "metadata": {},
     "output_type": "execute_result"
    }
   ],
   "source": [
    "lista.count(60)"
   ]
  },
  {
   "cell_type": "code",
   "execution_count": 46,
   "id": "28831bef-9847-4905-82bf-a53e091b7306",
   "metadata": {
    "tags": []
   },
   "outputs": [
    {
     "data": {
      "text/plain": [
       "[10, 20, 30, 40, 50, 70, 60, 80, 60]"
      ]
     },
     "execution_count": 46,
     "metadata": {},
     "output_type": "execute_result"
    }
   ],
   "source": [
    "lista.remove(60)\n",
    "lista"
   ]
  },
  {
   "cell_type": "code",
   "execution_count": 48,
   "id": "08347439-b71e-4e4d-acf6-c0843601fa45",
   "metadata": {
    "tags": []
   },
   "outputs": [
    {
     "data": {
      "text/plain": [
       "[10, 20, 30, 40, 50, 70, 80]"
      ]
     },
     "execution_count": 48,
     "metadata": {},
     "output_type": "execute_result"
    }
   ],
   "source": [
    "while(60 in lista):\n",
    "    lista.remove(60)\n",
    "lista"
   ]
  },
  {
   "cell_type": "code",
   "execution_count": 55,
   "id": "1e94149c-df5b-47db-959d-dfe1eb7a2644",
   "metadata": {
    "tags": []
   },
   "outputs": [
    {
     "data": {
      "text/plain": [
       "[10, 20, 30, 40, 50, 70, 80]"
      ]
     },
     "execution_count": 55,
     "metadata": {},
     "output_type": "execute_result"
    }
   ],
   "source": [
    "lista.sort()\n",
    "lista"
   ]
  },
  {
   "cell_type": "code",
   "execution_count": 57,
   "id": "32318a9e-c088-4e25-9cc5-c4f0720444a8",
   "metadata": {
    "tags": []
   },
   "outputs": [
    {
     "data": {
      "text/plain": [
       "[80, 70, 50, 40, 30, 20, 10]"
      ]
     },
     "execution_count": 57,
     "metadata": {},
     "output_type": "execute_result"
    }
   ],
   "source": [
    "lista.sort(reverse=True)\n",
    "lista"
   ]
  },
  {
   "cell_type": "code",
   "execution_count": 58,
   "id": "98347fa3-e255-42fd-a479-7d45fd7e3194",
   "metadata": {
    "tags": []
   },
   "outputs": [
    {
     "data": {
      "text/plain": [
       "[10, 20, 30, 40, 50, 70, 80]"
      ]
     },
     "execution_count": 58,
     "metadata": {},
     "output_type": "execute_result"
    }
   ],
   "source": [
    "lista[::-1]"
   ]
  },
  {
   "cell_type": "code",
   "execution_count": 59,
   "id": "f2e0701b-39f5-4942-982a-801fbc1ad716",
   "metadata": {
    "tags": []
   },
   "outputs": [],
   "source": [
    "lista = ['A','C','B']"
   ]
  },
  {
   "cell_type": "code",
   "execution_count": 60,
   "id": "21c8ff39-29b3-4cfd-9e95-6c498c043afd",
   "metadata": {
    "tags": []
   },
   "outputs": [
    {
     "data": {
      "text/plain": [
       "['A', 'B', 'C']"
      ]
     },
     "execution_count": 60,
     "metadata": {},
     "output_type": "execute_result"
    }
   ],
   "source": [
    "lista.sort()\n",
    "lista"
   ]
  },
  {
   "cell_type": "markdown",
   "id": "76c7ce7a-de66-4cac-93ec-6453b0d3bbce",
   "metadata": {
    "tags": []
   },
   "source": [
    "# 3. Ciclos For"
   ]
  },
  {
   "cell_type": "code",
   "execution_count": 73,
   "id": "84eb267b-393e-407a-97ce-66242e49caa6",
   "metadata": {
    "tags": []
   },
   "outputs": [
    {
     "name": "stdout",
     "output_type": "stream",
     "text": [
      "10\n",
      "20\n",
      "30\n",
      "40\n",
      "50\n",
      "60\n"
     ]
    }
   ],
   "source": [
    "lista = [10, 20, 30, 40, 50, 60]\n",
    "for valor in lista:\n",
    "    print(valor)"
   ]
  },
  {
   "cell_type": "code",
   "execution_count": 65,
   "id": "8a2f8cdb-6b3e-4d6b-91c9-5164fdc90858",
   "metadata": {
    "tags": []
   },
   "outputs": [
    {
     "data": {
      "text/plain": [
       "[0, 1, 2, 3, 4, 5, 6, 7, 8, 9, 10]"
      ]
     },
     "execution_count": 65,
     "metadata": {},
     "output_type": "execute_result"
    }
   ],
   "source": [
    "list(range(0,11))"
   ]
  },
  {
   "cell_type": "code",
   "execution_count": 68,
   "id": "6bf3036b-e0c6-438c-981e-93b8f89f5b6c",
   "metadata": {
    "tags": []
   },
   "outputs": [
    {
     "name": "stdout",
     "output_type": "stream",
     "text": [
      "0\n",
      "10\n",
      "20\n",
      "30\n",
      "40\n",
      "50\n",
      "60\n",
      "70\n",
      "80\n",
      "90\n",
      "100\n"
     ]
    }
   ],
   "source": [
    "for i in range(0,101,10):\n",
    "    print(i)"
   ]
  },
  {
   "cell_type": "code",
   "execution_count": 69,
   "id": "b7785b48-9184-46eb-9e1a-05057fbee4cc",
   "metadata": {
    "tags": []
   },
   "outputs": [
    {
     "name": "stdout",
     "output_type": "stream",
     "text": [
      "El valor del indice 0 es 10\n",
      "El valor del indice 1 es 20\n",
      "El valor del indice 2 es 30\n",
      "El valor del indice 3 es 40\n",
      "El valor del indice 4 es 50\n",
      "El valor del indice 5 es 60\n"
     ]
    }
   ],
   "source": [
    "for index, valor in enumerate(lista):\n",
    "    print(f\"El valor del indice {index} es {valor}\")"
   ]
  },
  {
   "cell_type": "code",
   "execution_count": 74,
   "id": "75484fdf-80c9-4169-b229-eeccec6661b7",
   "metadata": {
    "tags": []
   },
   "outputs": [
    {
     "name": "stdout",
     "output_type": "stream",
     "text": [
      "[10, 20, 30, 40, 50, 60]\n",
      "[100, 400, 900, 1600, 2500, 3600]\n"
     ]
    }
   ],
   "source": [
    "print(lista)\n",
    "for index, valor in enumerate(lista):\n",
    "    lista[index] = valor**2\n",
    "\n",
    "print(lista)"
   ]
  },
  {
   "cell_type": "markdown",
   "id": "2c082423-f1ec-4e38-88b9-4bf605e85864",
   "metadata": {},
   "source": [
    "# 4. Comprehensions"
   ]
  },
  {
   "cell_type": "code",
   "execution_count": 79,
   "id": "50a36d42-3da9-4793-b38d-30b0dc5b53fa",
   "metadata": {
    "tags": []
   },
   "outputs": [
    {
     "name": "stdout",
     "output_type": "stream",
     "text": [
      "Lapso: 0.0\n"
     ]
    }
   ],
   "source": [
    "import time\n",
    "\n",
    "letras = [\"a\", \"b\", \"c\", \"d\", \"e\", \"f\"]\n",
    "mayusculas = []\n",
    "\n",
    "start = time.time()\n",
    "for valor in letras: \n",
    "    mayusculas.append(valor.upper())\n",
    "end = time.time()\n",
    "    \n",
    "mayusculas\n",
    "print(f\"Lapso: {end - start}\")"
   ]
  },
  {
   "cell_type": "code",
   "execution_count": 80,
   "id": "69b87579-2534-4953-a6a0-02de242d657a",
   "metadata": {
    "tags": []
   },
   "outputs": [
    {
     "name": "stdout",
     "output_type": "stream",
     "text": [
      "Lapso: 0.0\n"
     ]
    },
    {
     "data": {
      "text/plain": [
       "['A', 'B', 'C', 'D', 'E', 'F']"
      ]
     },
     "execution_count": 80,
     "metadata": {},
     "output_type": "execute_result"
    }
   ],
   "source": [
    "start = time.time()\n",
    "mayusculas = [valor.upper() for valor in letras]\n",
    "end = time.time()\n",
    "print(f\"Lapso: {end - start}\")\n",
    "\n",
    "mayusculas"
   ]
  },
  {
   "cell_type": "code",
   "execution_count": 81,
   "id": "bca5cbf0-8297-47df-9dd3-ce3f05d4ba87",
   "metadata": {
    "tags": []
   },
   "outputs": [
    {
     "data": {
      "text/plain": [
       "[0, 1, 2, 3, 4, 5]"
      ]
     },
     "execution_count": 81,
     "metadata": {},
     "output_type": "execute_result"
    }
   ],
   "source": [
    "lista = list(range(6))\n",
    "lista"
   ]
  },
  {
   "cell_type": "code",
   "execution_count": 82,
   "id": "26bae18a-2cf7-44fa-97bd-2958c1290b03",
   "metadata": {
    "tags": []
   },
   "outputs": [
    {
     "data": {
      "text/plain": [
       "0.0"
      ]
     },
     "execution_count": 82,
     "metadata": {},
     "output_type": "execute_result"
    }
   ],
   "source": [
    "import math\n",
    "\n",
    "def exp_neg(x):\n",
    "    return round(math.e**-x, 5)\n",
    "\n",
    "exp_neg(15)"
   ]
  },
  {
   "cell_type": "code",
   "execution_count": 84,
   "id": "395594d7-eb53-43b1-b44a-3858a9b80e73",
   "metadata": {
    "tags": []
   },
   "outputs": [
    {
     "data": {
      "text/plain": [
       "[1.0, 0.36788, 0.13534, 0.04979, 0.01832, 0.00674]"
      ]
     },
     "execution_count": 84,
     "metadata": {},
     "output_type": "execute_result"
    }
   ],
   "source": [
    "lista_exp_neg = [exp_neg(x) for x in lista]\n",
    "lista_exp_neg"
   ]
  },
  {
   "cell_type": "markdown",
   "id": "0ab3dfab-f793-4865-86e6-75c702528fa5",
   "metadata": {
    "tags": []
   },
   "source": [
    "# 5. Tupla"
   ]
  },
  {
   "cell_type": "markdown",
   "id": "ab69b143-6262-4657-bafe-b84074a630e1",
   "metadata": {},
   "source": [
    "#Las tuplas son inmutables"
   ]
  },
  {
   "cell_type": "code",
   "execution_count": 87,
   "id": "9e489d92-b8aa-4f53-b83a-c080e7f34d19",
   "metadata": {
    "tags": []
   },
   "outputs": [
    {
     "data": {
      "text/plain": [
       "(10, 20, 30, 40, 50, 60)"
      ]
     },
     "execution_count": 87,
     "metadata": {},
     "output_type": "execute_result"
    }
   ],
   "source": [
    "tupla = (10,20, 30, 40, 50, 60)\n",
    "tupla"
   ]
  },
  {
   "cell_type": "code",
   "execution_count": 88,
   "id": "a9403445-3de2-49ce-aab6-536cf2269843",
   "metadata": {
    "tags": []
   },
   "outputs": [
    {
     "data": {
      "text/plain": [
       "(10, 20, 30, 40, 50)"
      ]
     },
     "execution_count": 88,
     "metadata": {},
     "output_type": "execute_result"
    }
   ],
   "source": [
    "tupla[0:5]"
   ]
  },
  {
   "cell_type": "code",
   "execution_count": 89,
   "id": "ddc965b7-8b79-478d-a502-fdacc2234ef2",
   "metadata": {
    "tags": []
   },
   "outputs": [
    {
     "data": {
      "text/plain": [
       "[10, 20, 30, 40, 50, 60]"
      ]
     },
     "execution_count": 89,
     "metadata": {},
     "output_type": "execute_result"
    }
   ],
   "source": [
    "list(tupla)"
   ]
  },
  {
   "cell_type": "code",
   "execution_count": 91,
   "id": "d5a92e82-fe0e-4b5d-a640-e94c3f659ae6",
   "metadata": {
    "tags": []
   },
   "outputs": [
    {
     "data": {
      "text/plain": [
       "(1, 2, 3)"
      ]
     },
     "execution_count": 91,
     "metadata": {},
     "output_type": "execute_result"
    }
   ],
   "source": [
    "tuple([1,2,3])"
   ]
  },
  {
   "cell_type": "code",
   "execution_count": 92,
   "id": "cd2e97fe-e6bf-4c02-b5a2-d865a856313c",
   "metadata": {
    "tags": []
   },
   "outputs": [
    {
     "data": {
      "text/plain": [
       "True"
      ]
     },
     "execution_count": 92,
     "metadata": {},
     "output_type": "execute_result"
    }
   ],
   "source": [
    "60 in tupla"
   ]
  },
  {
   "cell_type": "code",
   "execution_count": 96,
   "id": "15a021f1-f420-4f33-aaa8-ac26525723a6",
   "metadata": {
    "tags": []
   },
   "outputs": [
    {
     "data": {
      "text/plain": [
       "(100, 200, 300, 400, 500, 600)"
      ]
     },
     "execution_count": 96,
     "metadata": {},
     "output_type": "execute_result"
    }
   ],
   "source": [
    "numeros = (10,20,30,40,50,60)\n",
    "numerosNuevos = tuple([x*10 for x in numeros])\n",
    "numerosNuevos"
   ]
  },
  {
   "cell_type": "code",
   "execution_count": null,
   "id": "29b221ad-a839-4e2e-8843-e34a7ae2c989",
   "metadata": {},
   "outputs": [],
   "source": []
  }
 ],
 "metadata": {
  "kernelspec": {
   "display_name": "Python 3 (ipykernel)",
   "language": "python",
   "name": "python3"
  },
  "language_info": {
   "codemirror_mode": {
    "name": "ipython",
    "version": 3
   },
   "file_extension": ".py",
   "mimetype": "text/x-python",
   "name": "python",
   "nbconvert_exporter": "python",
   "pygments_lexer": "ipython3",
   "version": "3.11.5"
  }
 },
 "nbformat": 4,
 "nbformat_minor": 5
}
