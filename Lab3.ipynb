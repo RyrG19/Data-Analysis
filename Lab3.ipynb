{
 "cells": [
  {
   "cell_type": "markdown",
   "id": "fb00af2a-b902-4ff1-9264-6f7bb66bff27",
   "metadata": {},
   "source": [
    "#  Parte 1"
   ]
  },
  {
   "cell_type": "markdown",
   "id": "3d9d490b-9153-40ae-aa8c-468ee40fdc36",
   "metadata": {},
   "source": [
    "## Parte 1: Numpy"
   ]
  },
  {
   "cell_type": "code",
   "execution_count": 9,
   "id": "1d3b4666",
   "metadata": {},
   "outputs": [],
   "source": [
    "import numpy as np\n",
    "import pandas as pd"
   ]
  },
  {
   "cell_type": "markdown",
   "id": "405b3338",
   "metadata": {},
   "source": [
    "### 1. ¿Cuál es el tamaño en bytes de un array de 1000 elementos de tipo booleano?"
   ]
  },
  {
   "cell_type": "code",
   "execution_count": null,
   "id": "7dbed67f-f38e-45a2-99de-39a370180d12",
   "metadata": {},
   "outputs": [],
   "source": []
  },
  {
   "cell_type": "markdown",
   "id": "fbb8b375",
   "metadata": {},
   "source": [
    "### 2. Cree un array cuyos elementos sean los enteros pares en [1,100] y en orden decreciente. Muestre los 10 últimos por pantalla."
   ]
  },
  {
   "cell_type": "code",
   "execution_count": 8,
   "id": "ff36cf92-8522-49fb-bdc9-f4bd6f64319d",
   "metadata": {},
   "outputs": [
    {
     "data": {
      "text/plain": [
       "array([18, 16, 14, 12, 10,  8,  6,  4,  2])"
      ]
     },
     "execution_count": 8,
     "metadata": {},
     "output_type": "execute_result"
    }
   ],
   "source": [
    "pares = np.arange(100,1,-2)\n",
    "ultimos_pares = pares[41:50]\n",
    "ultimos_pares"
   ]
  },
  {
   "cell_type": "markdown",
   "id": "ff6d5c4d",
   "metadata": {},
   "source": [
    "### 3. Dado el array"
   ]
  },
  {
   "cell_type": "code",
   "execution_count": 37,
   "id": "47312e46-2ec1-40b8-964e-549a77f6fc1f",
   "metadata": {},
   "outputs": [
    {
     "name": "stdout",
     "output_type": "stream",
     "text": [
      "2 4 5 6 \n",
      "0 3 7 4 \n",
      "8 8 5 2 \n",
      "1 5 6 1 \n"
     ]
    }
   ],
   "source": [
    "array = [[2,4,5,6],[0,3,7,4],[8,8,5,2],[1,5,6,1]]\n",
    "for fila in array:\n",
    "  for elemento in fila:\n",
    "    print(elemento, end=\" \")\n",
    "  print()"
   ]
  },
  {
   "cell_type": "code",
   "execution_count": 39,
   "id": "464a9452-5a10-4337-9cd0-be835d8bcc77",
   "metadata": {},
   "outputs": [
    {
     "name": "stdout",
     "output_type": "stream",
     "text": [
      "2 4 5 6 "
     ]
    }
   ],
   "source": [
    "primera_fila = array[0]\n",
    "for elemento in primera_fila:\n",
    "  print(elemento, end=\" \")\n"
   ]
  },
  {
   "cell_type": "code",
   "execution_count": 42,
   "id": "2614d102-8406-414f-836a-c2cd0a9013c4",
   "metadata": {},
   "outputs": [
    {
     "name": "stdout",
     "output_type": "stream",
     "text": [
      "2 5 \n",
      "8 5 \n"
     ]
    }
   ],
   "source": [
    "subarray = [[array[0][0],array[0][2]],[array[2][0],array[2][2]]]\n",
    "c"
   ]
  },
  {
   "cell_type": "markdown",
   "id": "40e05759",
   "metadata": {},
   "source": [
    "### 4. Dados los arrays a = [1, 4, 2, 7] y b = [1, 3, 2, 9], obtenga la media aritmética de la diferencia (a-b)."
   ]
  },
  {
   "cell_type": "code",
   "execution_count": 50,
   "id": "c1e65256-943e-4a8e-a7c4-6be96da43609",
   "metadata": {},
   "outputs": [
    {
     "name": "stdout",
     "output_type": "stream",
     "text": [
      "La media aritmética de la diferencia a-b, es -0.25\n"
     ]
    }
   ],
   "source": [
    "a = [1,4,2,7]\n",
    "b = [1,3,2,9]\n",
    "c = np.subtract(a,b)\n",
    "media = 0\n",
    "for elemento in c:\n",
    "    media = media + elemento\n",
    "print(f\"La media aritmética de la diferencia a-b, es {media/len(c)}\")"
   ]
  },
  {
   "cell_type": "markdown",
   "id": "3c939a7e",
   "metadata": {},
   "source": [
    "### 5. Tengo valores de cordenadas (x, y) en las columnas del array"
   ]
  },
  {
   "cell_type": "code",
   "execution_count": 99,
   "id": "8fa1898f-003d-4aa7-93da-2fa4ecf5d894",
   "metadata": {},
   "outputs": [
    {
     "name": "stdout",
     "output_type": "stream",
     "text": [
      "1.33 4.5 \n",
      "30.0 10.7 \n",
      "70.2 0.5 \n"
     ]
    }
   ],
   "source": [
    "array = [[1.33,4.5],[30.0,10.7],[70.2,0.5]]\n",
    "for fila in array:\n",
    "    for elemento in fila:\n",
    "        print(elemento, end=\" \")\n",
    "    print()"
   ]
  },
  {
   "cell_type": "code",
   "execution_count": 100,
   "id": "25e4cd7b-337d-4d58-9743-5ba7add62e65",
   "metadata": {},
   "outputs": [
    {
     "name": "stdout",
     "output_type": "stream",
     "text": [
      "1.33 4.5 \n",
      "30.0 10.7 \n",
      "70.2 0.5 \n",
      "37.1 -3.6 \n"
     ]
    }
   ],
   "source": [
    "#Suponiendo que queremos agregar la nueva coordenada al final\n",
    "coordenada_extra = [37.1,-3.6]\n",
    "array.append(coordenada_extra)\n",
    "for fila in array:\n",
    "    for elemento in fila:\n",
    "        print(elemento, end=\" \")\n",
    "    print()"
   ]
  },
  {
   "cell_type": "markdown",
   "id": "0032678e",
   "metadata": {},
   "source": [
    "### 6. Copie el array del ejercicio anterior. Traspóngalo.  Agregue ahora dos nuevos pares de coordenadas: (10.8, 3.0) y (35.8, 12.0)."
   ]
  },
  {
   "cell_type": "code",
   "execution_count": 101,
   "id": "438be7ea-b27e-4591-bd64-bb420a0c2f81",
   "metadata": {},
   "outputs": [
    {
     "name": "stdout",
     "output_type": "stream",
     "text": [
      "1.33 30.0 70.2 37.1 \n",
      "4.5 10.7 0.5 -3.6 \n"
     ]
    }
   ],
   "source": [
    "newarray = np.transpose(array)\n",
    "for fila in newarray:\n",
    "    for elemento in fila:\n",
    "        print(elemento, end=\" \")\n",
    "    print()"
   ]
  },
  {
   "cell_type": "code",
   "execution_count": 102,
   "id": "67c9ddf0",
   "metadata": {},
   "outputs": [
    {
     "name": "stdout",
     "output_type": "stream",
     "text": [
      "1.33 4.5 \n",
      "30.0 10.7 \n",
      "70.2 0.5 \n",
      "37.1 -3.6 \n",
      "10.8 3.0 \n",
      "35.8 12.0 \n"
     ]
    }
   ],
   "source": [
    "array.append([10.8,3.0])\n",
    "array.append([35.8,12.0])\n",
    "for fila in array:\n",
    "    for elemento in fila:\n",
    "        print(elemento, end=\" \")\n",
    "    print()"
   ]
  },
  {
   "cell_type": "markdown",
   "id": "a178b61f",
   "metadata": {},
   "source": [
    "## Parte 2: Exploración y Minería de Datos"
   ]
  },
  {
   "cell_type": "code",
   "execution_count": 10,
   "id": "e8dfe5eb",
   "metadata": {},
   "outputs": [
    {
     "data": {
      "text/plain": [
       "FID            int64\n",
       "OBJECTID       int64\n",
       "Texto         object\n",
       "Poblacion    float64\n",
       "CodMun         int64\n",
       "Municipio     object\n",
       "CodProvin      int64\n",
       "Provincia     object\n",
       "X            float64\n",
       "Y            float64\n",
       "dtype: object"
      ]
     },
     "execution_count": 10,
     "metadata": {},
     "output_type": "execute_result"
    }
   ],
   "source": [
    "dataset = pd.read_csv(\"NucleosPoblacion.csv\")\n",
    "dataset.dtypes"
   ]
  },
  {
   "cell_type": "markdown",
   "id": "74dc9df6",
   "metadata": {},
   "source": [
    "### 1) ¿Cuántos Municipios tienen más de 100000 habitantes?."
   ]
  },
  {
   "cell_type": "code",
   "execution_count": 118,
   "id": "b7277b44",
   "metadata": {},
   "outputs": [
    {
     "data": {
      "text/html": [
       "<div>\n",
       "<style scoped>\n",
       "    .dataframe tbody tr th:only-of-type {\n",
       "        vertical-align: middle;\n",
       "    }\n",
       "\n",
       "    .dataframe tbody tr th {\n",
       "        vertical-align: top;\n",
       "    }\n",
       "\n",
       "    .dataframe thead th {\n",
       "        text-align: right;\n",
       "    }\n",
       "</style>\n",
       "<table border=\"1\" class=\"dataframe\">\n",
       "  <thead>\n",
       "    <tr style=\"text-align: right;\">\n",
       "      <th></th>\n",
       "      <th>FID</th>\n",
       "      <th>OBJECTID</th>\n",
       "      <th>Texto</th>\n",
       "      <th>Poblacion</th>\n",
       "      <th>CodMun</th>\n",
       "      <th>Municipio</th>\n",
       "      <th>CodProvin</th>\n",
       "      <th>Provincia</th>\n",
       "      <th>X</th>\n",
       "      <th>Y</th>\n",
       "    </tr>\n",
       "  </thead>\n",
       "  <tbody>\n",
       "    <tr>\n",
       "      <th>9</th>\n",
       "      <td>9</td>\n",
       "      <td>10</td>\n",
       "      <td>Las Palmas de Gran Canaria</td>\n",
       "      <td>383308.0</td>\n",
       "      <td>35016</td>\n",
       "      <td>Las Palmas de Gran Canaria</td>\n",
       "      <td>35</td>\n",
       "      <td>Las Palmas</td>\n",
       "      <td>-15.413387</td>\n",
       "      <td>28.099775</td>\n",
       "    </tr>\n",
       "    <tr>\n",
       "      <th>16</th>\n",
       "      <td>16</td>\n",
       "      <td>17</td>\n",
       "      <td>Telde</td>\n",
       "      <td>100900.0</td>\n",
       "      <td>35026</td>\n",
       "      <td>Telde</td>\n",
       "      <td>35</td>\n",
       "      <td>Las Palmas</td>\n",
       "      <td>-15.416666</td>\n",
       "      <td>27.994202</td>\n",
       "    </tr>\n",
       "    <tr>\n",
       "      <th>28</th>\n",
       "      <td>28</td>\n",
       "      <td>29</td>\n",
       "      <td>San Cristóbal de La Laguna</td>\n",
       "      <td>152222.0</td>\n",
       "      <td>38023</td>\n",
       "      <td>San Cristóbal de La Laguna</td>\n",
       "      <td>38</td>\n",
       "      <td>Santa Cruz de Tenerife</td>\n",
       "      <td>-16.314721</td>\n",
       "      <td>28.487893</td>\n",
       "    </tr>\n",
       "    <tr>\n",
       "      <th>40</th>\n",
       "      <td>40</td>\n",
       "      <td>41</td>\n",
       "      <td>Santa Cruz de Tenerife</td>\n",
       "      <td>222643.0</td>\n",
       "      <td>38038</td>\n",
       "      <td>Santa Cruz de Tenerife</td>\n",
       "      <td>38</td>\n",
       "      <td>Santa Cruz de Tenerife</td>\n",
       "      <td>-16.247264</td>\n",
       "      <td>28.463257</td>\n",
       "    </tr>\n",
       "    <tr>\n",
       "      <th>42</th>\n",
       "      <td>42</td>\n",
       "      <td>43</td>\n",
       "      <td>Badajoz</td>\n",
       "      <td>150376.0</td>\n",
       "      <td>6015</td>\n",
       "      <td>Badajoz</td>\n",
       "      <td>6</td>\n",
       "      <td>Badajoz</td>\n",
       "      <td>-6.970997</td>\n",
       "      <td>38.878743</td>\n",
       "    </tr>\n",
       "    <tr>\n",
       "      <th>...</th>\n",
       "      <td>...</td>\n",
       "      <td>...</td>\n",
       "      <td>...</td>\n",
       "      <td>...</td>\n",
       "      <td>...</td>\n",
       "      <td>...</td>\n",
       "      <td>...</td>\n",
       "      <td>...</td>\n",
       "      <td>...</td>\n",
       "      <td>...</td>\n",
       "    </tr>\n",
       "    <tr>\n",
       "      <th>683</th>\n",
       "      <td>683</td>\n",
       "      <td>684</td>\n",
       "      <td>Santa Coloma de Gramenet</td>\n",
       "      <td>120060.0</td>\n",
       "      <td>8245</td>\n",
       "      <td>Santa Coloma de Gramenet</td>\n",
       "      <td>8</td>\n",
       "      <td>Barcelona</td>\n",
       "      <td>2.212155</td>\n",
       "      <td>41.453657</td>\n",
       "    </tr>\n",
       "    <tr>\n",
       "      <th>689</th>\n",
       "      <td>689</td>\n",
       "      <td>690</td>\n",
       "      <td>Terrassa</td>\n",
       "      <td>212724.0</td>\n",
       "      <td>8279</td>\n",
       "      <td>Terrassa</td>\n",
       "      <td>8</td>\n",
       "      <td>Barcelona</td>\n",
       "      <td>2.012151</td>\n",
       "      <td>41.562363</td>\n",
       "    </tr>\n",
       "    <tr>\n",
       "      <th>725</th>\n",
       "      <td>725</td>\n",
       "      <td>726</td>\n",
       "      <td>Lleida</td>\n",
       "      <td>137387.0</td>\n",
       "      <td>25120</td>\n",
       "      <td>Lleida</td>\n",
       "      <td>25</td>\n",
       "      <td>Lleida</td>\n",
       "      <td>0.620619</td>\n",
       "      <td>41.615274</td>\n",
       "    </tr>\n",
       "    <tr>\n",
       "      <th>735</th>\n",
       "      <td>735</td>\n",
       "      <td>736</td>\n",
       "      <td>Reus</td>\n",
       "      <td>106622.0</td>\n",
       "      <td>43123</td>\n",
       "      <td>Reus</td>\n",
       "      <td>43</td>\n",
       "      <td>Tarragona</td>\n",
       "      <td>1.109861</td>\n",
       "      <td>41.154107</td>\n",
       "    </tr>\n",
       "    <tr>\n",
       "      <th>737</th>\n",
       "      <td>737</td>\n",
       "      <td>738</td>\n",
       "      <td>Tarragona</td>\n",
       "      <td>140184.0</td>\n",
       "      <td>43148</td>\n",
       "      <td>Tarragona</td>\n",
       "      <td>43</td>\n",
       "      <td>Tarragona</td>\n",
       "      <td>1.258422</td>\n",
       "      <td>41.119103</td>\n",
       "    </tr>\n",
       "  </tbody>\n",
       "</table>\n",
       "<p>62 rows × 10 columns</p>\n",
       "</div>"
      ],
      "text/plain": [
       "     FID  OBJECTID                       Texto  Poblacion  CodMun  \\\n",
       "9      9        10  Las Palmas de Gran Canaria   383308.0   35016   \n",
       "16    16        17                       Telde   100900.0   35026   \n",
       "28    28        29  San Cristóbal de La Laguna   152222.0   38023   \n",
       "40    40        41      Santa Cruz de Tenerife   222643.0   38038   \n",
       "42    42        43                     Badajoz   150376.0    6015   \n",
       "..   ...       ...                         ...        ...     ...   \n",
       "683  683       684    Santa Coloma de Gramenet   120060.0    8245   \n",
       "689  689       690                    Terrassa   212724.0    8279   \n",
       "725  725       726                      Lleida   137387.0   25120   \n",
       "735  735       736                        Reus   106622.0   43123   \n",
       "737  737       738                   Tarragona   140184.0   43148   \n",
       "\n",
       "                      Municipio  CodProvin               Provincia          X  \\\n",
       "9    Las Palmas de Gran Canaria         35              Las Palmas -15.413387   \n",
       "16                        Telde         35              Las Palmas -15.416666   \n",
       "28   San Cristóbal de La Laguna         38  Santa Cruz de Tenerife -16.314721   \n",
       "40       Santa Cruz de Tenerife         38  Santa Cruz de Tenerife -16.247264   \n",
       "42                      Badajoz          6                 Badajoz  -6.970997   \n",
       "..                          ...        ...                     ...        ...   \n",
       "683    Santa Coloma de Gramenet          8               Barcelona   2.212155   \n",
       "689                    Terrassa          8               Barcelona   2.012151   \n",
       "725                      Lleida         25                  Lleida   0.620619   \n",
       "735                        Reus         43               Tarragona   1.109861   \n",
       "737                   Tarragona         43               Tarragona   1.258422   \n",
       "\n",
       "             Y  \n",
       "9    28.099775  \n",
       "16   27.994202  \n",
       "28   28.487893  \n",
       "40   28.463257  \n",
       "42   38.878743  \n",
       "..         ...  \n",
       "683  41.453657  \n",
       "689  41.562363  \n",
       "725  41.615274  \n",
       "735  41.154107  \n",
       "737  41.119103  \n",
       "\n",
       "[62 rows x 10 columns]"
      ]
     },
     "execution_count": 118,
     "metadata": {},
     "output_type": "execute_result"
    }
   ],
   "source": [
    "dataset[dataset['Poblacion'] >=100000]"
   ]
  },
  {
   "cell_type": "code",
   "execution_count": 123,
   "id": "242d0adb",
   "metadata": {},
   "outputs": [
    {
     "name": "stdout",
     "output_type": "stream",
     "text": [
      "El total de Municipios que tienen más de 100000 habitantes es 62.\n"
     ]
    }
   ],
   "source": [
    "x = len(dataset[dataset['Poblacion'] >=100000])\n",
    "print(f\"El total de Municipios que tienen más de 100000 habitantes es {x}.\")"
   ]
  },
  {
   "cell_type": "markdown",
   "id": "95ec7cfe",
   "metadata": {},
   "source": [
    "### 2) Realice una gráfica de barras sobre la polbación de cada ciudad, ordenela de menor a mayo y responda:\n",
    "a. ¿Cuál es la segunda ciudad más poblada?\n",
    "\n",
    "b. ¿Qué posición ocupa Granada en el ranking de las ciudades más pobladas?"
   ]
  },
  {
   "cell_type": "code",
   "execution_count": 54,
   "id": "0e9c08cb",
   "metadata": {},
   "outputs": [
    {
     "data": {
      "image/png": "[encoded data removed]",
      "text/plain": [
       "<Figure size 640x480 with 1 Axes>"
      ]
     },
     "metadata": {},
     "output_type": "display_data"
    }
   ],
   "source": [
    "import matplotlib.pyplot as plt\n",
    "x = dataset['Provincia']\n",
    "y = dataset['Poblacion']\n",
    "\n",
    "plt.bar(x, y)\n",
    "plt.rcParams[\"font.size\"] = 10\n",
    "plt.xticks(rotation=90, ha='right')\n",
    "plt.xlabel(\"Provincia\")\n",
    "plt.ylabel(\"Población\")\n",
    "plt.title(\"Población por Municipio\")\n",
    "\n",
    "plt.show()"
   ]
  },
  {
   "cell_type": "markdown",
   "id": "1b63d624",
   "metadata": {},
   "source": [
    "### 3) ¿Cuántos municipios de Extremadura tienen más de 5000 habitantes?."
   ]
  },
  {
   "cell_type": "code",
   "execution_count": 133,
   "id": "cf071f43",
   "metadata": {},
   "outputs": [
    {
     "ename": "SyntaxError",
     "evalue": "invalid syntax (1863159792.py, line 1)",
     "output_type": "error",
     "traceback": [
      "\u001b[1;36m  Cell \u001b[1;32mIn[133], line 1\u001b[1;36m\u001b[0m\n\u001b[1;33m    dataset[dataset['Provincia'] == 'Extremadura' && dataset['Poblacion'] >=5000]\u001b[0m\n\u001b[1;37m                                                   ^\u001b[0m\n\u001b[1;31mSyntaxError\u001b[0m\u001b[1;31m:\u001b[0m invalid syntax\n"
     ]
    }
   ],
   "source": [
    "dataset[dataset['Provincia'] == 'Extremadura' && dataset['Poblacion'] >=5000]"
   ]
  },
  {
   "cell_type": "code",
   "execution_count": 124,
   "id": "bc1087a9",
   "metadata": {},
   "outputs": [],
   "source": []
  },
  {
   "cell_type": "markdown",
   "id": "d192255f",
   "metadata": {},
   "source": [
    "### 4) ¿Cuál es el municipio situado más al Norte? "
   ]
  },
  {
   "cell_type": "code",
   "execution_count": 150,
   "id": "cce05813",
   "metadata": {},
   "outputs": [
    {
     "name": "stdout",
     "output_type": "stream",
     "text": [
      "El municipio que está más al norte es Viveiro, que está en la provincia de Lugo.\n"
     ]
    }
   ],
   "source": [
    "norte = dataset['Y'].max()\n",
    "lugar = dataset['Y'].idxmax()\n",
    "print(f\"El municipio que está más al norte es {dataset['Municipio'][lugar]}, que está en la provincia de {dataset['Provincia'][lugar]}.\")"
   ]
  },
  {
   "cell_type": "markdown",
   "id": "c32e2c12",
   "metadata": {},
   "source": [
    "### 5) Obtenga la media, mediana, desviación estándar, valor máximo y valor mínimo de la población de los municipios de la provincia de Granada."
   ]
  },
  {
   "cell_type": "code",
   "execution_count": 162,
   "id": "3460d2d4",
   "metadata": {},
   "outputs": [
    {
     "data": {
      "text/plain": [
       "266     17637.0\n",
       "267     27703.0\n",
       "268     21895.0\n",
       "269     15945.0\n",
       "270     21982.0\n",
       "271     12448.0\n",
       "272    239154.0\n",
       "273     20407.0\n",
       "274     11551.0\n",
       "275     10386.0\n",
       "276     21688.0\n",
       "277     21097.0\n",
       "278     60884.0\n",
       "279     13255.0\n",
       "280     11000.0\n",
       "281     13421.0\n",
       "282     12821.0\n",
       "283     15428.0\n",
       "284     18240.0\n",
       "285     17415.0\n",
       "Name: Poblacion, dtype: float64"
      ]
     },
     "execution_count": 162,
     "metadata": {},
     "output_type": "execute_result"
    }
   ],
   "source": [
    "dataset[(dataset['Provincia'] == 'Granada')]['Poblacion']"
   ]
  },
  {
   "cell_type": "code",
   "execution_count": 161,
   "id": "efba7934",
   "metadata": {},
   "outputs": [
    {
     "name": "stdout",
     "output_type": "stream",
     "text": [
      "La población en Granada tiene una media de 30217.85, con desviación estándar 49080.46218738674, valor máximo 239154.0 y mínimo 10386.0 \n"
     ]
    }
   ],
   "source": [
    "media = np.mean(dataset[(dataset['Provincia'] == 'Granada')]['Poblacion'])\n",
    "desviacion = np.std(dataset[(dataset['Provincia'] == 'Granada')]['Poblacion'])\n",
    "minimo = np.min(dataset[(dataset['Provincia'] == 'Granada')]['Poblacion'])\n",
    "maximo = np.max(dataset[(dataset['Provincia'] == 'Granada')]['Poblacion'])\n",
    "print(f\"La población en Granada tiene una media de {media}, con desviación estándar {desviacion}, valor máximo {maximo} y mínimo {minimo} \")"
   ]
  },
  {
   "cell_type": "markdown",
   "id": "9926ef2b",
   "metadata": {},
   "source": [
    "### 6) Realice un histograma con la población de los Municipios para cada una de las provincias."
   ]
  },
  {
   "cell_type": "code",
   "execution_count": 50,
   "id": "91b7d6b7",
   "metadata": {},
   "outputs": [
    {
     "data": {
      "text/plain": [
       "0                                         Agüimes\n",
       "1                                         Antigua\n",
       "2                                        Arrecife\n",
       "3                                          Arucas\n",
       "4                                          Gáldar\n",
       "                          ...                    \n",
       "847                                        Murcia\n",
       "848                                        Murcia\n",
       "849                                        Murcia\n",
       "850                                        Toledo\n",
       "851    Castellón de la Plana/Castelló de la Plana\n",
       "Name: Municipio, Length: 852, dtype: object"
      ]
     },
     "execution_count": 50,
     "metadata": {},
     "output_type": "execute_result"
    }
   ],
   "source": [
    "dataset['Municipio']\n",
    "# C´mo hacer subplots? agrupar por provincias"
   ]
  },
  {
   "cell_type": "markdown",
   "id": "76accd1f",
   "metadata": {},
   "source": [
    "### 7) Seleccione al azar cincuenta municipios diferentes de entre los diponibles en el archivo. Asegúrese de que no se repitan. ¿Luego calcule el promedio de la población y la desviación estándar de esto 50 municipios?"
   ]
  },
  {
   "cell_type": "code",
   "execution_count": 74,
   "id": "6d8b5014",
   "metadata": {},
   "outputs": [
    {
     "name": "stdout",
     "output_type": "stream",
     "text": [
      "Dados 50 municipios aleatorios, el promedio de la población es 47374.44\n"
     ]
    }
   ],
   "source": [
    "import random\n",
    "munirand = random.sample(list(dataset['Municipio']),50)\n",
    "munirand #Vector de 50 municipios aleatorios\n",
    "suma = 0\n",
    "for k in range(len(munirand)):\n",
    "    suma = suma + dataset['Poblacion'][munirand.index(munirand[k])]\n",
    "print(f\"Dados 50 municipios aleatorios, el promedio de la población es {suma/len(munirand)}\")"
   ]
  },
  {
   "cell_type": "markdown",
   "id": "3dc36bc1",
   "metadata": {},
   "source": [
    "### 8) Determine los nombres de los Municipios más cercano y más lejano a Madrid. Para ello debe calcular la distancia en todos ellos y Madrid. No considere a Madrid en el análisis ya que la distancia sería cero."
   ]
  },
  {
   "cell_type": "code",
   "execution_count": 81,
   "id": "7dabfebb",
   "metadata": {},
   "outputs": [
    {
     "ename": "TypeError",
     "evalue": "'RangeIndex' object is not callable",
     "output_type": "error",
     "traceback": [
      "\u001b[1;31m---------------------------------------------------------------------------\u001b[0m",
      "\u001b[1;31mTypeError\u001b[0m                                 Traceback (most recent call last)",
      "Cell \u001b[1;32mIn[81], line 1\u001b[0m\n\u001b[1;32m----> 1\u001b[0m dataset[\u001b[38;5;124m'\u001b[39m\u001b[38;5;124mMunicipio\u001b[39m\u001b[38;5;124m'\u001b[39m]\u001b[38;5;241m.\u001b[39mindex(\u001b[38;5;124m'\u001b[39m\u001b[38;5;124mMadrid\u001b[39m\u001b[38;5;124m'\u001b[39m)\n",
      "\u001b[1;31mTypeError\u001b[0m: 'RangeIndex' object is not callable"
     ]
    }
   ],
   "source": [
    "Mad = dataset['Municipio'].index('Madrid')\n",
    "# Hacer un vector de valores absolutos de (x,Madrid) y (y,Madrid), buscar el máximo y mínimo (distinto de cero).\n",
    "distancias = np.multiply(dataset['X']-,dataset['X']) \n",
    "distancias"
   ]
  },
  {
   "cell_type": "code",
   "execution_count": null,
   "id": "897704a2",
   "metadata": {},
   "outputs": [],
   "source": []
  },
  {
   "cell_type": "code",
   "execution_count": null,
   "id": "d38ddae5",
   "metadata": {},
   "outputs": [],
   "source": []
  }
 ],
 "metadata": {
  "kernelspec": {
   "display_name": "Python 3 (ipykernel)",
   "language": "python",
   "name": "python3"
  },
  "language_info": {
   "codemirror_mode": {
    "name": "ipython",
    "version": 3
   },
   "file_extension": ".py",
   "mimetype": "text/x-python",
   "name": "python",
   "nbconvert_exporter": "python",
   "pygments_lexer": "ipython3",
   "version": "3.11.5"
  }
 },
 "nbformat": 4,
 "nbformat_minor": 5
}
